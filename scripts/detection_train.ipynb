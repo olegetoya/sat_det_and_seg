{
 "cells": [
  {
   "cell_type": "code",
   "execution_count": null,
   "id": "1e0571fd",
   "metadata": {},
   "outputs": [],
   "source": [
    "%matplotlib inline\n",
    "import matplotlib.pyplot as plt"
   ]
  },
  {
   "cell_type": "code",
   "execution_count": null,
   "id": "b4d8c5dd",
   "metadata": {},
   "outputs": [],
   "source": [
    "!pip install -U ultralytics"
   ]
  },
  {
   "cell_type": "code",
   "execution_count": null,
   "id": "0d176c1b",
   "metadata": {},
   "outputs": [],
   "source": [
    "import torch\n",
    "print(torch.cuda.is_available())\n",
    "print(torch.cuda.get_device_name(0))\n"
   ]
  },
  {
   "cell_type": "code",
   "execution_count": null,
   "id": "31d43cc0",
   "metadata": {},
   "outputs": [],
   "source": [
    "from ultralytics import YOLO\n",
    "\n",
    "model = YOLO(\"yolov8n.pt\")\n",
    "\n",
    "model.train(\n",
    "    data=r\"D:\\Paper_1\\dataset_detect\\data.yaml\",\n",
    "    epochs=50,\n",
    "    imgsz=640,\n",
    "    batch=16,\n",
    "    save_period=10,\n",
    "    project=r\"D:\\Paper_1\\yolo_det_results\",\n",
    "    name=\"exp1\",\n",
    "    device=0\n",
    ")\n"
   ]
  },
  {
   "cell_type": "code",
   "execution_count": null,
   "id": "ad13e211",
   "metadata": {},
   "outputs": [],
   "source": [
    "#in case the training stopped\n",
    "from ultralytics import YOLO\n",
    "\n",
    "\n",
    "model = YOLO(r\"D:\\Paper_1\\yolo_det_results\\exp13\\weights\\last.pt\")\n",
    "\n",
    "model.train(\n",
    "    resume=True,\n",
    "    epochs=20,\n",
    "    project=r\"D:\\Paper_1\\yolo_det_results\",\n",
    "    name=\"exp13\",\n",
    ")\n"
   ]
  },
  {
   "cell_type": "code",
   "execution_count": null,
   "id": "bb2a9479",
   "metadata": {},
   "outputs": [],
   "source": [
    "import pandas as pd\n",
    "import matplotlib.pyplot as plt\n",
    "\n",
    "df = pd.read_csv(\"D:/Paper_1/yolo_det_results/exp13/results(in).csv\", sep=\";\")\n",
    "\n",
    "fig, axs = plt.subplots(2, 2, figsize=(16, 10))\n",
    "axs = axs.ravel()\n",
    "\n",
    "# --- 1. METRICS: mAP, Precision, Recall ---\n",
    "axs[0].plot(df[\"epoch\"], df[\"metrics/mAP50(B)\"], 'o-', label=\"mAP@0.5\")\n",
    "axs[0].plot(df[\"epoch\"], df[\"metrics/mAP50-95(B)\"], 'o-', label=\"mAP@0.5:0.95\")\n",
    "axs[0].plot(df[\"epoch\"], df[\"metrics/precision(B)\"], 'o-', label=\"Precision\")\n",
    "axs[0].plot(df[\"epoch\"], df[\"metrics/recall(B)\"], 'o-', label=\"Recall\")\n",
    "axs[0].set_title(\"Validation Metrics\")\n",
    "axs[0].set_xlabel(\"Epoch\")\n",
    "axs[0].set_ylabel(\"Value\")\n",
    "axs[0].grid(True)\n",
    "axs[0].legend()\n",
    "\n",
    "# --- 2. TRAIN LOSSES ---\n",
    "axs[1].plot(df[\"epoch\"], df[\"train/box_loss\"], 'o-', label=\"Box Loss\")\n",
    "axs[1].plot(df[\"epoch\"], df[\"train/cls_loss\"], 'o-', label=\"Class Loss\")\n",
    "axs[1].plot(df[\"epoch\"], df[\"train/dfl_loss\"], 'o-', label=\"DFL Loss\")\n",
    "axs[1].set_title(\"Training Losses\")\n",
    "axs[1].set_xlabel(\"Epoch\")\n",
    "axs[1].set_ylabel(\"Loss\")\n",
    "axs[1].grid(True)\n",
    "axs[1].legend()\n",
    "\n",
    "# --- 3. VAL LOSSES ---\n",
    "axs[2].plot(df[\"epoch\"], df[\"val/box_loss\"], 'o-', label=\"Box Loss\")\n",
    "axs[2].plot(df[\"epoch\"], df[\"val/cls_loss\"], 'o-', label=\"Class Loss\")\n",
    "axs[2].plot(df[\"epoch\"], df[\"val/dfl_loss\"], 'o-', label=\"DFL Loss\")\n",
    "axs[2].set_title(\"Validation Losses\")\n",
    "axs[2].set_xlabel(\"Epoch\")\n",
    "axs[2].set_ylabel(\"Loss\")\n",
    "axs[2].grid(True)\n",
    "axs[2].legend()\n",
    "\n",
    "# --- 4. LEARNING RATE ---\n",
    "axs[3].plot(df[\"epoch\"], df[\"lr/pg0\"], 'o-', label=\"lr_pg0\")\n",
    "axs[3].plot(df[\"epoch\"], df[\"lr/pg1\"], 'o-', label=\"lr_pg1\")\n",
    "axs[3].plot(df[\"epoch\"], df[\"lr/pg2\"], 'o-', label=\"lr_pg2\")\n",
    "axs[3].set_title(\"Learning Rates\")\n",
    "axs[3].set_xlabel(\"Epoch\")\n",
    "axs[3].set_ylabel(\"LR\")\n",
    "axs[3].grid(True)\n",
    "axs[3].legend()\n",
    "\n",
    "plt.suptitle(\"YOLOv8 Training Summary\", fontsize=16)\n",
    "plt.tight_layout(rect=[0, 0, 1, 0.96])\n",
    "plt.show()\n"
   ]
  },
  {
   "cell_type": "code",
   "execution_count": null,
   "id": "c477b637",
   "metadata": {},
   "outputs": [],
   "source": [
    "#predict run\n",
    "from ultralytics import YOLO\n",
    "\n",
    "model = YOLO(r\"D:\\Paper_1\\yolo_det_results\\exp13\\weights\\best.pt\")\n",
    "\n",
    "results = model.predict(\n",
    "    source=r\"D:\\Paper_1\\dataset_detect\\images\\test\",\n",
    "    save=True,\n",
    "    conf=0.25,\n",
    "    project=r\"D:\\Paper_1\\yolo_test_results\",\n",
    "    name=\"predict_test\",\n",
    "    device=0\n",
    ")\n"
   ]
  }
 ],
 "metadata": {
  "kernelspec": {
   "display_name": "Python 3",
   "language": "python",
   "name": "python3"
  },
  "language_info": {
   "codemirror_mode": {
    "name": "ipython",
    "version": 3
   },
   "file_extension": ".py",
   "mimetype": "text/x-python",
   "name": "python",
   "nbconvert_exporter": "python",
   "pygments_lexer": "ipython3",
   "version": "3.12.2"
  }
 },
 "nbformat": 4,
 "nbformat_minor": 5
}
